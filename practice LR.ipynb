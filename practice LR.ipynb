{
 "cells": [
  {
   "cell_type": "code",
   "execution_count": 1,
   "id": "c791b94f-7c9f-47b2-84db-a0da2d0a2959",
   "metadata": {},
   "outputs": [],
   "source": [
    "import pandas as pd \n",
    "import numpy as np \n",
    "import matplotlib.pyplot as plt \n",
    "%matplotlib inline "
   ]
  },
  {
   "cell_type": "code",
   "execution_count": 2,
   "id": "9e398301-a43e-498b-b77a-0318ed4440fe",
   "metadata": {},
   "outputs": [],
   "source": [
    "from sklearn.datasets import fetch_california_housing"
   ]
  },
  {
   "cell_type": "code",
   "execution_count": 3,
   "id": "59d43bfd-1580-4e76-a282-6a85e820eaea",
   "metadata": {},
   "outputs": [],
   "source": [
    "df=pd.read_csv(\"https://raw.githubusercontent.com/devzohaib/Simple-Linear-Regression/master/tvmarketing.csv\")"
   ]
  },
  {
   "cell_type": "code",
   "execution_count": 4,
   "id": "102fba5a-7c6f-4fb0-bc81-2b16d3e4cd56",
   "metadata": {},
   "outputs": [
    {
     "data": {
      "text/html": [
       "<div>\n",
       "<style scoped>\n",
       "    .dataframe tbody tr th:only-of-type {\n",
       "        vertical-align: middle;\n",
       "    }\n",
       "\n",
       "    .dataframe tbody tr th {\n",
       "        vertical-align: top;\n",
       "    }\n",
       "\n",
       "    .dataframe thead th {\n",
       "        text-align: right;\n",
       "    }\n",
       "</style>\n",
       "<table border=\"1\" class=\"dataframe\">\n",
       "  <thead>\n",
       "    <tr style=\"text-align: right;\">\n",
       "      <th></th>\n",
       "      <th>TV</th>\n",
       "      <th>Sales</th>\n",
       "    </tr>\n",
       "  </thead>\n",
       "  <tbody>\n",
       "    <tr>\n",
       "      <th>0</th>\n",
       "      <td>230.1</td>\n",
       "      <td>22.1</td>\n",
       "    </tr>\n",
       "    <tr>\n",
       "      <th>1</th>\n",
       "      <td>44.5</td>\n",
       "      <td>10.4</td>\n",
       "    </tr>\n",
       "    <tr>\n",
       "      <th>2</th>\n",
       "      <td>17.2</td>\n",
       "      <td>9.3</td>\n",
       "    </tr>\n",
       "    <tr>\n",
       "      <th>3</th>\n",
       "      <td>151.5</td>\n",
       "      <td>18.5</td>\n",
       "    </tr>\n",
       "    <tr>\n",
       "      <th>4</th>\n",
       "      <td>180.8</td>\n",
       "      <td>12.9</td>\n",
       "    </tr>\n",
       "  </tbody>\n",
       "</table>\n",
       "</div>"
      ],
      "text/plain": [
       "      TV  Sales\n",
       "0  230.1   22.1\n",
       "1   44.5   10.4\n",
       "2   17.2    9.3\n",
       "3  151.5   18.5\n",
       "4  180.8   12.9"
      ]
     },
     "execution_count": 4,
     "metadata": {},
     "output_type": "execute_result"
    }
   ],
   "source": [
    "df.head()"
   ]
  },
  {
   "cell_type": "code",
   "execution_count": 5,
   "id": "72cc796f-201e-4294-9a5f-e9bd34cc0c51",
   "metadata": {},
   "outputs": [
    {
     "data": {
      "text/plain": [
       "TV       0\n",
       "Sales    0\n",
       "dtype: int64"
      ]
     },
     "execution_count": 5,
     "metadata": {},
     "output_type": "execute_result"
    }
   ],
   "source": [
    "df.isnull().sum()"
   ]
  },
  {
   "cell_type": "code",
   "execution_count": 6,
   "id": "bfccf604-d58a-4a48-b4d1-43e628d3ea36",
   "metadata": {},
   "outputs": [],
   "source": [
    "x=df['TV']\n",
    "y=df['Sales']"
   ]
  },
  {
   "cell_type": "code",
   "execution_count": 7,
   "id": "8021a361-7ee3-4419-b410-2c43e50f82f4",
   "metadata": {},
   "outputs": [
    {
     "data": {
      "text/plain": [
       "(200,)"
      ]
     },
     "execution_count": 7,
     "metadata": {},
     "output_type": "execute_result"
    }
   ],
   "source": [
    "x.shape"
   ]
  },
  {
   "cell_type": "code",
   "execution_count": 8,
   "id": "ca42d926-47f8-470b-aa39-f71985b8f3ee",
   "metadata": {},
   "outputs": [
    {
     "data": {
      "text/plain": [
       "(200,)"
      ]
     },
     "execution_count": 8,
     "metadata": {},
     "output_type": "execute_result"
    }
   ],
   "source": [
    "y.shape"
   ]
  },
  {
   "cell_type": "code",
   "execution_count": 9,
   "id": "33bc4067-9c0d-4da5-aca7-bb73ae1cefb8",
   "metadata": {},
   "outputs": [
    {
     "data": {
      "text/plain": [
       "0    230.1\n",
       "1     44.5\n",
       "2     17.2\n",
       "3    151.5\n",
       "4    180.8\n",
       "Name: TV, dtype: float64"
      ]
     },
     "execution_count": 9,
     "metadata": {},
     "output_type": "execute_result"
    }
   ],
   "source": [
    "x.head()"
   ]
  },
  {
   "cell_type": "code",
   "execution_count": 10,
   "id": "14e0c6ce-256d-4c6d-b9bd-f56fe5d43018",
   "metadata": {},
   "outputs": [
    {
     "data": {
      "text/plain": [
       "pandas.core.series.Series"
      ]
     },
     "execution_count": 10,
     "metadata": {},
     "output_type": "execute_result"
    }
   ],
   "source": [
    "type(x)"
   ]
  },
  {
   "cell_type": "code",
   "execution_count": 11,
   "id": "987ba7e9-edd9-4fbf-bc2a-8e94f2224c48",
   "metadata": {},
   "outputs": [
    {
     "data": {
      "text/plain": [
       "dtype('float64')"
      ]
     },
     "execution_count": 11,
     "metadata": {},
     "output_type": "execute_result"
    }
   ],
   "source": [
    "x.dtype"
   ]
  },
  {
   "cell_type": "code",
   "execution_count": 12,
   "id": "c2bf8d28-fc80-48e2-bcd6-e6591a3c2367",
   "metadata": {},
   "outputs": [
    {
     "data": {
      "image/png": "[encoded data removed]",
      "text/plain": [
       "<Figure size 640x480 with 1 Axes>"
      ]
     },
     "metadata": {},
     "output_type": "display_data"
    }
   ],
   "source": [
    "plt.scatter(x,y)\n",
    "plt.xlabel('TV')\n",
    "plt.ylabel('Sales')\n",
    "plt.title(\"scatter plot \")\n",
    "plt.show()"
   ]
  },
  {
   "cell_type": "code",
   "execution_count": 13,
   "id": "57b82673-288c-4161-a3f1-490a18f471d2",
   "metadata": {},
   "outputs": [
    {
     "name": "stdout",
     "output_type": "stream",
     "text": [
      "<class 'pandas.core.frame.DataFrame'>\n",
      "RangeIndex: 200 entries, 0 to 199\n",
      "Data columns (total 2 columns):\n",
      " #   Column  Non-Null Count  Dtype  \n",
      "---  ------  --------------  -----  \n",
      " 0   TV      200 non-null    float64\n",
      " 1   Sales   200 non-null    float64\n",
      "dtypes: float64(2)\n",
      "memory usage: 3.3 KB\n"
     ]
    }
   ],
   "source": [
    "df.info()"
   ]
  },
  {
   "cell_type": "code",
   "execution_count": 14,
   "id": "73f65040-911b-40b8-85c8-1cfd09000922",
   "metadata": {},
   "outputs": [
    {
     "data": {
      "text/html": [
       "<div>\n",
       "<style scoped>\n",
       "    .dataframe tbody tr th:only-of-type {\n",
       "        vertical-align: middle;\n",
       "    }\n",
       "\n",
       "    .dataframe tbody tr th {\n",
       "        vertical-align: top;\n",
       "    }\n",
       "\n",
       "    .dataframe thead th {\n",
       "        text-align: right;\n",
       "    }\n",
       "</style>\n",
       "<table border=\"1\" class=\"dataframe\">\n",
       "  <thead>\n",
       "    <tr style=\"text-align: right;\">\n",
       "      <th></th>\n",
       "      <th>TV</th>\n",
       "      <th>Sales</th>\n",
       "    </tr>\n",
       "  </thead>\n",
       "  <tbody>\n",
       "    <tr>\n",
       "      <th>count</th>\n",
       "      <td>200.000000</td>\n",
       "      <td>200.000000</td>\n",
       "    </tr>\n",
       "    <tr>\n",
       "      <th>mean</th>\n",
       "      <td>147.042500</td>\n",
       "      <td>14.022500</td>\n",
       "    </tr>\n",
       "    <tr>\n",
       "      <th>std</th>\n",
       "      <td>85.854236</td>\n",
       "      <td>5.217457</td>\n",
       "    </tr>\n",
       "    <tr>\n",
       "      <th>min</th>\n",
       "      <td>0.700000</td>\n",
       "      <td>1.600000</td>\n",
       "    </tr>\n",
       "    <tr>\n",
       "      <th>25%</th>\n",
       "      <td>74.375000</td>\n",
       "      <td>10.375000</td>\n",
       "    </tr>\n",
       "    <tr>\n",
       "      <th>50%</th>\n",
       "      <td>149.750000</td>\n",
       "      <td>12.900000</td>\n",
       "    </tr>\n",
       "    <tr>\n",
       "      <th>75%</th>\n",
       "      <td>218.825000</td>\n",
       "      <td>17.400000</td>\n",
       "    </tr>\n",
       "    <tr>\n",
       "      <th>max</th>\n",
       "      <td>296.400000</td>\n",
       "      <td>27.000000</td>\n",
       "    </tr>\n",
       "  </tbody>\n",
       "</table>\n",
       "</div>"
      ],
      "text/plain": [
       "               TV       Sales\n",
       "count  200.000000  200.000000\n",
       "mean   147.042500   14.022500\n",
       "std     85.854236    5.217457\n",
       "min      0.700000    1.600000\n",
       "25%     74.375000   10.375000\n",
       "50%    149.750000   12.900000\n",
       "75%    218.825000   17.400000\n",
       "max    296.400000   27.000000"
      ]
     },
     "execution_count": 14,
     "metadata": {},
     "output_type": "execute_result"
    }
   ],
   "source": [
    "df.describe()"
   ]
  },
  {
   "cell_type": "code",
   "execution_count": 15,
   "id": "7a06a98b-958d-40bc-b890-52310d54b4bc",
   "metadata": {},
   "outputs": [],
   "source": [
    "from sklearn.model_selection import train_test_split"
   ]
  },
  {
   "cell_type": "code",
   "execution_count": 16,
   "id": "5c74fc46-b9bd-47ee-81ee-8381f1c042b3",
   "metadata": {},
   "outputs": [],
   "source": [
    "x_train ,x_test , y_train ,y_test = train_test_split(x,y,test_size=0.2,random_state =42)"
   ]
  },
  {
   "cell_type": "code",
   "execution_count": 17,
   "id": "53353264-d44e-4357-9e2b-0fd692daed16",
   "metadata": {},
   "outputs": [
    {
     "data": {
      "text/plain": [
       "(160,)"
      ]
     },
     "execution_count": 17,
     "metadata": {},
     "output_type": "execute_result"
    }
   ],
   "source": [
    "x_train.shape"
   ]
  },
  {
   "cell_type": "code",
   "execution_count": 18,
   "id": "c51e572a-ee87-4205-9db3-1f9b17fd5d00",
   "metadata": {},
   "outputs": [
    {
     "data": {
      "text/plain": [
       "79     116.0\n",
       "197    177.0\n",
       "38      43.1\n",
       "24      62.3\n",
       "122    224.0\n",
       "       ...  \n",
       "106     25.0\n",
       "14     204.1\n",
       "92     217.7\n",
       "179    165.6\n",
       "102    280.2\n",
       "Name: TV, Length: 160, dtype: float64"
      ]
     },
     "execution_count": 18,
     "metadata": {},
     "output_type": "execute_result"
    }
   ],
   "source": [
    "x_train "
   ]
  },
  {
   "cell_type": "code",
   "execution_count": 19,
   "id": "973df506-242c-48d7-a1a0-fb3aa2a6dc51",
   "metadata": {},
   "outputs": [
    {
     "data": {
      "text/plain": [
       "pandas.core.series.Series"
      ]
     },
     "execution_count": 19,
     "metadata": {},
     "output_type": "execute_result"
    }
   ],
   "source": [
    "type(x_train )"
   ]
  },
  {
   "cell_type": "code",
   "execution_count": 20,
   "id": "d5b9e01c-c824-42ea-a24d-10627c58816a",
   "metadata": {},
   "outputs": [],
   "source": [
    "l=list(x_train)"
   ]
  },
  {
   "cell_type": "code",
   "execution_count": 21,
   "id": "1dc4a2e6-6d04-4e9c-b7c8-c753ba126e73",
   "metadata": {},
   "outputs": [
    {
     "data": {
      "text/plain": [
       "list"
      ]
     },
     "execution_count": 21,
     "metadata": {},
     "output_type": "execute_result"
    }
   ],
   "source": [
    "type(l)"
   ]
  },
  {
   "cell_type": "code",
   "execution_count": 22,
   "id": "db798cca-1e2d-4547-a69e-5f95ebf04f3a",
   "metadata": {},
   "outputs": [
    {
     "data": {
      "text/plain": [
       "95     163.3\n",
       "15     195.4\n",
       "30     292.9\n",
       "158     11.7\n",
       "128    220.3\n",
       "115     75.1\n",
       "69     216.8\n",
       "170     50.0\n",
       "174    222.4\n",
       "45     175.1\n",
       "66      31.5\n",
       "182     56.2\n",
       "165    234.5\n",
       "78       5.4\n",
       "186    139.5\n",
       "177    170.2\n",
       "56       7.3\n",
       "152    197.6\n",
       "82      75.3\n",
       "68     237.4\n",
       "124    229.5\n",
       "16      67.8\n",
       "148     38.0\n",
       "93     250.9\n",
       "65      69.0\n",
       "60      53.5\n",
       "84     213.5\n",
       "67     139.3\n",
       "125     87.2\n",
       "132      8.4\n",
       "9      199.8\n",
       "18      69.2\n",
       "55     198.9\n",
       "75      16.9\n",
       "150    280.7\n",
       "104    238.2\n",
       "135     48.3\n",
       "137    273.7\n",
       "164    117.2\n",
       "76      27.5\n",
       "Name: TV, dtype: float64"
      ]
     },
     "execution_count": 22,
     "metadata": {},
     "output_type": "execute_result"
    }
   ],
   "source": [
    "x_test "
   ]
  },
  {
   "cell_type": "code",
   "execution_count": 23,
   "id": "6f4faeae-3fa7-4b75-8249-988f4beb4ba6",
   "metadata": {},
   "outputs": [],
   "source": [
    "from sklearn.preprocessing import StandardScaler"
   ]
  },
  {
   "cell_type": "code",
   "execution_count": 24,
   "id": "43307312-98f9-4e32-9da9-88e7cc1ae98d",
   "metadata": {},
   "outputs": [],
   "source": [
    "scaler = StandardScaler()"
   ]
  },
  {
   "cell_type": "code",
   "execution_count": 25,
   "id": "62b05b19-b3c1-4c39-9e7c-bd9c3f38c2b9",
   "metadata": {},
   "outputs": [
    {
     "data": {
      "text/html": [
       "<style>#sk-container-id-1 {color: black;}#sk-container-id-1 pre{padding: 0;}#sk-container-id-1 div.sk-toggleable {background-color: white;}#sk-container-id-1 label.sk-toggleable__label {cursor: pointer;display: block;width: 100%;margin-bottom: 0;padding: 0.3em;box-sizing: border-box;text-align: center;}#sk-container-id-1 label.sk-toggleable__label-arrow:before {content: \"▸\";float: left;margin-right: 0.25em;color: #696969;}#sk-container-id-1 label.sk-toggleable__label-arrow:hover:before {color: black;}#sk-container-id-1 div.sk-estimator:hover label.sk-toggleable__label-arrow:before {color: black;}#sk-container-id-1 div.sk-toggleable__content {max-height: 0;max-width: 0;overflow: hidden;text-align: left;background-color: #f0f8ff;}#sk-container-id-1 div.sk-toggleable__content pre {margin: 0.2em;color: black;border-radius: 0.25em;background-color: #f0f8ff;}#sk-container-id-1 input.sk-toggleable__control:checked~div.sk-toggleable__content {max-height: 200px;max-width: 100%;overflow: auto;}#sk-container-id-1 input.sk-toggleable__control:checked~label.sk-toggleable__label-arrow:before {content: \"▾\";}#sk-container-id-1 div.sk-estimator input.sk-toggleable__control:checked~label.sk-toggleable__label {background-color: #d4ebff;}#sk-container-id-1 div.sk-label input.sk-toggleable__control:checked~label.sk-toggleable__label {background-color: #d4ebff;}#sk-container-id-1 input.sk-hidden--visually {border: 0;clip: rect(1px 1px 1px 1px);clip: rect(1px, 1px, 1px, 1px);height: 1px;margin: -1px;overflow: hidden;padding: 0;position: absolute;width: 1px;}#sk-container-id-1 div.sk-estimator {font-family: monospace;background-color: #f0f8ff;border: 1px dotted black;border-radius: 0.25em;box-sizing: border-box;margin-bottom: 0.5em;}#sk-container-id-1 div.sk-estimator:hover {background-color: #d4ebff;}#sk-container-id-1 div.sk-parallel-item::after {content: \"\";width: 100%;border-bottom: 1px solid gray;flex-grow: 1;}#sk-container-id-1 div.sk-label:hover label.sk-toggleable__label {background-color: #d4ebff;}#sk-container-id-1 div.sk-serial::before {content: \"\";position: absolute;border-left: 1px solid gray;box-sizing: border-box;top: 0;bottom: 0;left: 50%;z-index: 0;}#sk-container-id-1 div.sk-serial {display: flex;flex-direction: column;align-items: center;background-color: white;padding-right: 0.2em;padding-left: 0.2em;position: relative;}#sk-container-id-1 div.sk-item {position: relative;z-index: 1;}#sk-container-id-1 div.sk-parallel {display: flex;align-items: stretch;justify-content: center;background-color: white;position: relative;}#sk-container-id-1 div.sk-item::before, #sk-container-id-1 div.sk-parallel-item::before {content: \"\";position: absolute;border-left: 1px solid gray;box-sizing: border-box;top: 0;bottom: 0;left: 50%;z-index: -1;}#sk-container-id-1 div.sk-parallel-item {display: flex;flex-direction: column;z-index: 1;position: relative;background-color: white;}#sk-container-id-1 div.sk-parallel-item:first-child::after {align-self: flex-end;width: 50%;}#sk-container-id-1 div.sk-parallel-item:last-child::after {align-self: flex-start;width: 50%;}#sk-container-id-1 div.sk-parallel-item:only-child::after {width: 0;}#sk-container-id-1 div.sk-dashed-wrapped {border: 1px dashed gray;margin: 0 0.4em 0.5em 0.4em;box-sizing: border-box;padding-bottom: 0.4em;background-color: white;}#sk-container-id-1 div.sk-label label {font-family: monospace;font-weight: bold;display: inline-block;line-height: 1.2em;}#sk-container-id-1 div.sk-label-container {text-align: center;}#sk-container-id-1 div.sk-container {/* jupyter's `normalize.less` sets `[hidden] { display: none; }` but bootstrap.min.css set `[hidden] { display: none !important; }` so we also need the `!important` here to be able to override the default hidden behavior on the sphinx rendered scikit-learn.org. See: https://github.com/scikit-learn/scikit-learn/issues/21755 */display: inline-block !important;position: relative;}#sk-container-id-1 div.sk-text-repr-fallback {display: none;}</style><div id=\"sk-container-id-1\" class=\"sk-top-container\"><div class=\"sk-text-repr-fallback\"><pre>StandardScaler()</pre><b>In a Jupyter environment, please rerun this cell to show the HTML representation or trust the notebook. <br />On GitHub, the HTML representation is unable to render, please try loading this page with nbviewer.org.</b></div><div class=\"sk-container\" hidden><div class=\"sk-item\"><div class=\"sk-estimator sk-toggleable\"><input class=\"sk-toggleable__control sk-hidden--visually\" id=\"sk-estimator-id-1\" type=\"checkbox\" checked><label for=\"sk-estimator-id-1\" class=\"sk-toggleable__label sk-toggleable__label-arrow\">StandardScaler</label><div class=\"sk-toggleable__content\"><pre>StandardScaler()</pre></div></div></div></div></div>"
      ],
      "text/plain": [
       "StandardScaler()"
      ]
     },
     "execution_count": 25,
     "metadata": {},
     "output_type": "execute_result"
    }
   ],
   "source": [
    "scaler "
   ]
  },
  {
   "cell_type": "code",
   "execution_count": 26,
   "id": "3bd8bd92-befa-4929-b0c7-79fd6291df36",
   "metadata": {},
   "outputs": [],
   "source": [
    "x_train = np.array(x_train,ndmin=2)"
   ]
  },
  {
   "cell_type": "code",
   "execution_count": 27,
   "id": "210e609c-c1ac-4ae4-b3ac-548756997b72",
   "metadata": {},
   "outputs": [
    {
     "data": {
      "text/plain": [
       "array([[116. , 177. ,  43.1,  62.3, 224. ,  38.2,  70.6, 147.3, 104.6,\n",
       "         76.3,  78.2, 168.4,   8.7,   7.8,  76.4, 129.4,  73.4, 289.7,\n",
       "         19.6, 197.6, 284.3, 184.9, 112.9,  23.8, 290.7,  19.4, 293.6,\n",
       "         18.7, 134.3,  25.6, 100.4,  80.2, 188.4, 177. , 125.7, 209.6,\n",
       "        142.9, 184.9, 222.4, 241.7,  17.2, 120.5,  89.7, 191.1,  75.5,\n",
       "        193.2,  85.7, 266.9,  39.5, 261.3,  13.2, 193.7, 296.4, 265.6,\n",
       "        214.7, 149.7, 131.7,  57.5, 240.1, 141.3, 180.8,  97.2, 220.5,\n",
       "        140.3, 255.4,  96.2,  66.1, 239.3, 175.7, 240.1,  17.9, 230.1,\n",
       "        283.6, 171.3, 199.1, 123.1, 131.1,  25.1, 163.5, 248.8, 202.5,\n",
       "         13.1,   4.1,  93.9, 262.9, 228.3, 253.8, 243.2, 239.8, 228. ,\n",
       "        215.4, 239.9, 107.4, 187.8, 206.9,  43. , 151.5, 137.9, 182.6,\n",
       "        219.8, 156.6, 276.7, 205. ,  66.9,  76.4,  95.7, 120.2, 225.8,\n",
       "         28.6,  68.4, 248.4, 218.5, 109.8,   8.6,  97.5, 210.7, 164.5,\n",
       "        265.2, 281.4,  26.8, 276.9,  36.9, 206.8, 287.6, 102.7, 262.7,\n",
       "         90.4, 199.8,  94.2, 210.8, 227.2,  88.3, 237.4, 136.2, 172.5,\n",
       "         17.2,  59.6,  74.7, 149.8, 166.8,  44.5, 216.4,  44.7,   0.7,\n",
       "        121. , 187.9, 135.2, 139.2, 110.7, 213.4,  18.8, 232.1, 218.4,\n",
       "        286. , 109.8,  25. , 204.1, 217.7, 165.6, 280.2]])"
      ]
     },
     "execution_count": 27,
     "metadata": {},
     "output_type": "execute_result"
    }
   ],
   "source": [
    "x_train "
   ]
  },
  {
   "cell_type": "code",
   "execution_count": 28,
   "id": "4ae6bbfb-8168-4bd7-b1f7-0078745d1d27",
   "metadata": {},
   "outputs": [
    {
     "data": {
      "text/plain": [
       "(1, 160)"
      ]
     },
     "execution_count": 28,
     "metadata": {},
     "output_type": "execute_result"
    }
   ],
   "source": [
    "x_train.shape"
   ]
  },
  {
   "cell_type": "code",
   "execution_count": 29,
   "id": "4d190100-bfb1-4976-ada2-92665a123d1f",
   "metadata": {},
   "outputs": [],
   "source": [
    "X_train =x_train.reshape(-1,1)"
   ]
  },
  {
   "cell_type": "code",
   "execution_count": 30,
   "id": "79718c94-1cbb-49aa-8a11-654ca4ede401",
   "metadata": {},
   "outputs": [
    {
     "data": {
      "text/plain": [
       "(160, 1)"
      ]
     },
     "execution_count": 30,
     "metadata": {},
     "output_type": "execute_result"
    }
   ],
   "source": [
    "X_train.shape"
   ]
  },
  {
   "cell_type": "code",
   "execution_count": 31,
   "id": "62f2fc8e-7701-413d-9759-7dcf07257cb2",
   "metadata": {},
   "outputs": [],
   "source": [
    "x_train_scaled = scaler.fit_transform(X_train)"
   ]
  },
  {
   "cell_type": "code",
   "execution_count": 32,
   "id": "5929ba47-fb1d-4dee-b73b-7e2f4828d0e5",
   "metadata": {},
   "outputs": [
    {
     "data": {
      "text/plain": [
       "array([[-0.40424839],\n",
       "       [ 0.32060772],\n",
       "       [-1.27051084],\n",
       "       [-1.04235941],\n",
       "       [ 0.8791034 ],\n",
       "       [-1.32873699],\n",
       "       [-0.94373145],\n",
       "       [-0.03231403],\n",
       "       [-0.5397133 ],\n",
       "       [-0.875999  ],\n",
       "       [-0.85342151],\n",
       "       [ 0.21841489],\n",
       "       [-1.67928215],\n",
       "       [-1.68997675],\n",
       "       [-0.87481071],\n",
       "       [-0.2450177 ],\n",
       "       [-0.91045937],\n",
       "       [ 1.65980907],\n",
       "       [-1.54975868],\n",
       "       [ 0.56539519],\n",
       "       [ 1.59564148],\n",
       "       [ 0.41448252],\n",
       "       [-0.44108534],\n",
       "       [-1.49985056],\n",
       "       [ 1.67169196],\n",
       "       [-1.55213526],\n",
       "       [ 1.70615233],\n",
       "       [-1.56045328],\n",
       "       [-0.18679156],\n",
       "       [-1.47846136],\n",
       "       [-0.58962142],\n",
       "       [-0.82965574],\n",
       "       [ 0.45607263],\n",
       "       [ 0.32060772],\n",
       "       [-0.28898438],\n",
       "       [ 0.70798983],\n",
       "       [-0.08459873],\n",
       "       [ 0.41448252],\n",
       "       [ 0.86009078],\n",
       "       [ 1.0894305 ],\n",
       "       [-1.57827761],\n",
       "       [-0.35077539],\n",
       "       [-0.71676831],\n",
       "       [ 0.48815642],\n",
       "       [-0.88550531],\n",
       "       [ 0.51311048],\n",
       "       [-0.76429986],\n",
       "       [ 1.38887925],\n",
       "       [-1.31328923],\n",
       "       [ 1.32233508],\n",
       "       [-1.62580916],\n",
       "       [ 0.51905193],\n",
       "       [ 1.73942441],\n",
       "       [ 1.3734315 ],\n",
       "       [ 0.76859255],\n",
       "       [-0.0037951 ],\n",
       "       [-0.21768706],\n",
       "       [-1.09939727],\n",
       "       [ 1.07041788],\n",
       "       [-0.10361135],\n",
       "       [ 0.36576269],\n",
       "       [-0.62764666],\n",
       "       [ 0.8375133 ],\n",
       "       [-0.11549423],\n",
       "       [ 1.25222605],\n",
       "       [-0.63952955],\n",
       "       [-0.99720444],\n",
       "       [ 1.06091157],\n",
       "       [ 0.30515996],\n",
       "       [ 1.07041788],\n",
       "       [-1.56995959],\n",
       "       [ 0.95158901],\n",
       "       [ 1.58732346],\n",
       "       [ 0.25287526],\n",
       "       [ 0.58321952],\n",
       "       [-0.31987989],\n",
       "       [-0.22481679],\n",
       "       [-1.48440281],\n",
       "       [ 0.16018874],\n",
       "       [ 1.173799  ],\n",
       "       [ 0.62362133],\n",
       "       [-1.62699745],\n",
       "       [-1.73394343],\n",
       "       [-0.66686019],\n",
       "       [ 1.3413477 ],\n",
       "       [ 0.93019981],\n",
       "       [ 1.23321343],\n",
       "       [ 1.10725483],\n",
       "       [ 1.06685301],\n",
       "       [ 0.92663495],\n",
       "       [ 0.77691057],\n",
       "       [ 1.0680413 ],\n",
       "       [-0.50644121],\n",
       "       [ 0.44894289],\n",
       "       [ 0.67590603],\n",
       "       [-1.27169913],\n",
       "       [ 0.0175941 ],\n",
       "       [-0.14401316],\n",
       "       [ 0.38715188],\n",
       "       [ 0.82919528],\n",
       "       [ 0.07819682],\n",
       "       [ 1.50533154],\n",
       "       [ 0.65332855],\n",
       "       [-0.98769813],\n",
       "       [-0.87481071],\n",
       "       [-0.64547099],\n",
       "       [-0.35434026],\n",
       "       [ 0.9004926 ],\n",
       "       [-1.4428127 ],\n",
       "       [-0.9698738 ],\n",
       "       [ 1.16904584],\n",
       "       [ 0.81374752],\n",
       "       [-0.47792228],\n",
       "       [-1.68047044],\n",
       "       [-0.62408179],\n",
       "       [ 0.721061  ],\n",
       "       [ 0.17207163],\n",
       "       [ 1.36867834],\n",
       "       [ 1.56118111],\n",
       "       [-1.4642019 ],\n",
       "       [ 1.50770812],\n",
       "       [-1.34418474],\n",
       "       [ 0.67471775],\n",
       "       [ 1.63485501],\n",
       "       [-0.56229078],\n",
       "       [ 1.33897112],\n",
       "       [-0.70845029],\n",
       "       [ 0.59153754],\n",
       "       [-0.66329532],\n",
       "       [ 0.72224929],\n",
       "       [ 0.91712864],\n",
       "       [-0.73340435],\n",
       "       [ 1.03833409],\n",
       "       [-0.16421407],\n",
       "       [ 0.26713472],\n",
       "       [-1.57827761],\n",
       "       [-1.07444321],\n",
       "       [-0.89501162],\n",
       "       [-0.00260681],\n",
       "       [ 0.19940227],\n",
       "       [-1.2538748 ],\n",
       "       [ 0.78879346],\n",
       "       [-1.25149822],\n",
       "       [-1.77434525],\n",
       "       [-0.34483395],\n",
       "       [ 0.45013118],\n",
       "       [-0.17609696],\n",
       "       [-0.12856541],\n",
       "       [-0.46722769],\n",
       "       [ 0.7531448 ],\n",
       "       [-1.55926499],\n",
       "       [ 0.97535478],\n",
       "       [ 0.81255923],\n",
       "       [ 1.61584239],\n",
       "       [-0.47792228],\n",
       "       [-1.4855911 ],\n",
       "       [ 0.64263395],\n",
       "       [ 0.80424121],\n",
       "       [ 0.1851428 ],\n",
       "       [ 1.54692165]])"
      ]
     },
     "execution_count": 32,
     "metadata": {},
     "output_type": "execute_result"
    }
   ],
   "source": [
    "x_train_scaled"
   ]
  },
  {
   "cell_type": "code",
   "execution_count": 33,
   "id": "da11a367-822a-414e-92a9-7448bf8492b3",
   "metadata": {},
   "outputs": [],
   "source": [
    "X_test = np.array(x_test,ndmin=2).reshape(-1,1)"
   ]
  },
  {
   "cell_type": "code",
   "execution_count": 38,
   "id": "75a34f1e-f1e1-49a1-989c-81b81e42f130",
   "metadata": {},
   "outputs": [
    {
     "data": {
      "text/plain": [
       "(40, 1)"
      ]
     },
     "execution_count": 38,
     "metadata": {},
     "output_type": "execute_result"
    }
   ],
   "source": [
    "X_test.shape"
   ]
  },
  {
   "cell_type": "code",
   "execution_count": 36,
   "id": "a9c7dd3b-1a96-4806-95c8-f6aaae12233e",
   "metadata": {},
   "outputs": [],
   "source": [
    "x_test_scaled = scaler.transform(X_test)"
   ]
  },
  {
   "cell_type": "code",
   "execution_count": 37,
   "id": "b245ea6b-ea18-4e43-a1cc-f89afd87ef02",
   "metadata": {},
   "outputs": [
    {
     "data": {
      "text/plain": [
       "array([[ 0.31169191],\n",
       "       [ 0.66693106],\n",
       "       [ 1.74592846],\n",
       "       [-1.36601071],\n",
       "       [ 0.94249039],\n",
       "       [-0.66438573],\n",
       "       [ 0.90375715],\n",
       "       [-0.94215839],\n",
       "       [ 0.96573034],\n",
       "       [ 0.44227827],\n",
       "       [-1.14689123],\n",
       "       [-0.87354523],\n",
       "       [ 1.09963668],\n",
       "       [-1.43573054],\n",
       "       [ 0.04830588],\n",
       "       [ 0.38805173],\n",
       "       [-1.41470392],\n",
       "       [ 0.69127767],\n",
       "       [-0.6621724 ],\n",
       "       [ 1.13172994],\n",
       "       [ 1.04430348],\n",
       "       [-0.7451722 ],\n",
       "       [-1.07495807],\n",
       "       [ 1.28112958],\n",
       "       [-0.73189223],\n",
       "       [-0.90342515],\n",
       "       [ 0.86723724],\n",
       "       [ 0.04609256],\n",
       "       [-0.53047939],\n",
       "       [-1.40253062],\n",
       "       [ 0.71562427],\n",
       "       [-0.72967891],\n",
       "       [ 0.7056643 ],\n",
       "       [-1.30846418],\n",
       "       [ 1.61091545],\n",
       "       [ 1.14058325],\n",
       "       [-0.96097168],\n",
       "       [ 1.53344897],\n",
       "       [-0.19848019],\n",
       "       [-1.19115779]])"
      ]
     },
     "execution_count": 37,
     "metadata": {},
     "output_type": "execute_result"
    }
   ],
   "source": [
    "x_test_scaled"
   ]
  },
  {
   "cell_type": "markdown",
   "id": "9d488f40-8be5-47d7-a15a-476b091f179f",
   "metadata": {},
   "source": [
    "## model training"
   ]
  },
  {
   "cell_type": "code",
   "execution_count": 39,
   "id": "a6afba3d-1bc8-4205-8cc9-04c1c9a1f079",
   "metadata": {},
   "outputs": [],
   "source": [
    "from sklearn.linear_model import LinearRegression"
   ]
  },
  {
   "cell_type": "code",
   "execution_count": 40,
   "id": "52daa2e0-4575-47d6-9be5-d393b8c8bca4",
   "metadata": {},
   "outputs": [],
   "source": [
    "lr = LinearRegression()"
   ]
  },
  {
   "cell_type": "code",
   "execution_count": 41,
   "id": "4ba8d6f0-7666-427b-8552-6258ffd61819",
   "metadata": {},
   "outputs": [
    {
     "data": {
      "text/html": [
       "<style>#sk-container-id-3 {color: black;}#sk-container-id-3 pre{padding: 0;}#sk-container-id-3 div.sk-toggleable {background-color: white;}#sk-container-id-3 label.sk-toggleable__label {cursor: pointer;display: block;width: 100%;margin-bottom: 0;padding: 0.3em;box-sizing: border-box;text-align: center;}#sk-container-id-3 label.sk-toggleable__label-arrow:before {content: \"▸\";float: left;margin-right: 0.25em;color: #696969;}#sk-container-id-3 label.sk-toggleable__label-arrow:hover:before {color: black;}#sk-container-id-3 div.sk-estimator:hover label.sk-toggleable__label-arrow:before {color: black;}#sk-container-id-3 div.sk-toggleable__content {max-height: 0;max-width: 0;overflow: hidden;text-align: left;background-color: #f0f8ff;}#sk-container-id-3 div.sk-toggleable__content pre {margin: 0.2em;color: black;border-radius: 0.25em;background-color: #f0f8ff;}#sk-container-id-3 input.sk-toggleable__control:checked~div.sk-toggleable__content {max-height: 200px;max-width: 100%;overflow: auto;}#sk-container-id-3 input.sk-toggleable__control:checked~label.sk-toggleable__label-arrow:before {content: \"▾\";}#sk-container-id-3 div.sk-estimator input.sk-toggleable__control:checked~label.sk-toggleable__label {background-color: #d4ebff;}#sk-container-id-3 div.sk-label input.sk-toggleable__control:checked~label.sk-toggleable__label {background-color: #d4ebff;}#sk-container-id-3 input.sk-hidden--visually {border: 0;clip: rect(1px 1px 1px 1px);clip: rect(1px, 1px, 1px, 1px);height: 1px;margin: -1px;overflow: hidden;padding: 0;position: absolute;width: 1px;}#sk-container-id-3 div.sk-estimator {font-family: monospace;background-color: #f0f8ff;border: 1px dotted black;border-radius: 0.25em;box-sizing: border-box;margin-bottom: 0.5em;}#sk-container-id-3 div.sk-estimator:hover {background-color: #d4ebff;}#sk-container-id-3 div.sk-parallel-item::after {content: \"\";width: 100%;border-bottom: 1px solid gray;flex-grow: 1;}#sk-container-id-3 div.sk-label:hover label.sk-toggleable__label {background-color: #d4ebff;}#sk-container-id-3 div.sk-serial::before {content: \"\";position: absolute;border-left: 1px solid gray;box-sizing: border-box;top: 0;bottom: 0;left: 50%;z-index: 0;}#sk-container-id-3 div.sk-serial {display: flex;flex-direction: column;align-items: center;background-color: white;padding-right: 0.2em;padding-left: 0.2em;position: relative;}#sk-container-id-3 div.sk-item {position: relative;z-index: 1;}#sk-container-id-3 div.sk-parallel {display: flex;align-items: stretch;justify-content: center;background-color: white;position: relative;}#sk-container-id-3 div.sk-item::before, #sk-container-id-3 div.sk-parallel-item::before {content: \"\";position: absolute;border-left: 1px solid gray;box-sizing: border-box;top: 0;bottom: 0;left: 50%;z-index: -1;}#sk-container-id-3 div.sk-parallel-item {display: flex;flex-direction: column;z-index: 1;position: relative;background-color: white;}#sk-container-id-3 div.sk-parallel-item:first-child::after {align-self: flex-end;width: 50%;}#sk-container-id-3 div.sk-parallel-item:last-child::after {align-self: flex-start;width: 50%;}#sk-container-id-3 div.sk-parallel-item:only-child::after {width: 0;}#sk-container-id-3 div.sk-dashed-wrapped {border: 1px dashed gray;margin: 0 0.4em 0.5em 0.4em;box-sizing: border-box;padding-bottom: 0.4em;background-color: white;}#sk-container-id-3 div.sk-label label {font-family: monospace;font-weight: bold;display: inline-block;line-height: 1.2em;}#sk-container-id-3 div.sk-label-container {text-align: center;}#sk-container-id-3 div.sk-container {/* jupyter's `normalize.less` sets `[hidden] { display: none; }` but bootstrap.min.css set `[hidden] { display: none !important; }` so we also need the `!important` here to be able to override the default hidden behavior on the sphinx rendered scikit-learn.org. See: https://github.com/scikit-learn/scikit-learn/issues/21755 */display: inline-block !important;position: relative;}#sk-container-id-3 div.sk-text-repr-fallback {display: none;}</style><div id=\"sk-container-id-3\" class=\"sk-top-container\"><div class=\"sk-text-repr-fallback\"><pre>LinearRegression()</pre><b>In a Jupyter environment, please rerun this cell to show the HTML representation or trust the notebook. <br />On GitHub, the HTML representation is unable to render, please try loading this page with nbviewer.org.</b></div><div class=\"sk-container\" hidden><div class=\"sk-item\"><div class=\"sk-estimator sk-toggleable\"><input class=\"sk-toggleable__control sk-hidden--visually\" id=\"sk-estimator-id-3\" type=\"checkbox\" checked><label for=\"sk-estimator-id-3\" class=\"sk-toggleable__label sk-toggleable__label-arrow\">LinearRegression</label><div class=\"sk-toggleable__content\"><pre>LinearRegression()</pre></div></div></div></div></div>"
      ],
      "text/plain": [
       "LinearRegression()"
      ]
     },
     "execution_count": 41,
     "metadata": {},
     "output_type": "execute_result"
    }
   ],
   "source": [
    "lr"
   ]
  },
  {
   "cell_type": "code",
   "execution_count": 42,
   "id": "70128235-3a60-465c-b1ff-e5cee829132f",
   "metadata": {},
   "outputs": [
    {
     "data": {
      "text/html": [
       "<style>#sk-container-id-4 {color: black;}#sk-container-id-4 pre{padding: 0;}#sk-container-id-4 div.sk-toggleable {background-color: white;}#sk-container-id-4 label.sk-toggleable__label {cursor: pointer;display: block;width: 100%;margin-bottom: 0;padding: 0.3em;box-sizing: border-box;text-align: center;}#sk-container-id-4 label.sk-toggleable__label-arrow:before {content: \"▸\";float: left;margin-right: 0.25em;color: #696969;}#sk-container-id-4 label.sk-toggleable__label-arrow:hover:before {color: black;}#sk-container-id-4 div.sk-estimator:hover label.sk-toggleable__label-arrow:before {color: black;}#sk-container-id-4 div.sk-toggleable__content {max-height: 0;max-width: 0;overflow: hidden;text-align: left;background-color: #f0f8ff;}#sk-container-id-4 div.sk-toggleable__content pre {margin: 0.2em;color: black;border-radius: 0.25em;background-color: #f0f8ff;}#sk-container-id-4 input.sk-toggleable__control:checked~div.sk-toggleable__content {max-height: 200px;max-width: 100%;overflow: auto;}#sk-container-id-4 input.sk-toggleable__control:checked~label.sk-toggleable__label-arrow:before {content: \"▾\";}#sk-container-id-4 div.sk-estimator input.sk-toggleable__control:checked~label.sk-toggleable__label {background-color: #d4ebff;}#sk-container-id-4 div.sk-label input.sk-toggleable__control:checked~label.sk-toggleable__label {background-color: #d4ebff;}#sk-container-id-4 input.sk-hidden--visually {border: 0;clip: rect(1px 1px 1px 1px);clip: rect(1px, 1px, 1px, 1px);height: 1px;margin: -1px;overflow: hidden;padding: 0;position: absolute;width: 1px;}#sk-container-id-4 div.sk-estimator {font-family: monospace;background-color: #f0f8ff;border: 1px dotted black;border-radius: 0.25em;box-sizing: border-box;margin-bottom: 0.5em;}#sk-container-id-4 div.sk-estimator:hover {background-color: #d4ebff;}#sk-container-id-4 div.sk-parallel-item::after {content: \"\";width: 100%;border-bottom: 1px solid gray;flex-grow: 1;}#sk-container-id-4 div.sk-label:hover label.sk-toggleable__label {background-color: #d4ebff;}#sk-container-id-4 div.sk-serial::before {content: \"\";position: absolute;border-left: 1px solid gray;box-sizing: border-box;top: 0;bottom: 0;left: 50%;z-index: 0;}#sk-container-id-4 div.sk-serial {display: flex;flex-direction: column;align-items: center;background-color: white;padding-right: 0.2em;padding-left: 0.2em;position: relative;}#sk-container-id-4 div.sk-item {position: relative;z-index: 1;}#sk-container-id-4 div.sk-parallel {display: flex;align-items: stretch;justify-content: center;background-color: white;position: relative;}#sk-container-id-4 div.sk-item::before, #sk-container-id-4 div.sk-parallel-item::before {content: \"\";position: absolute;border-left: 1px solid gray;box-sizing: border-box;top: 0;bottom: 0;left: 50%;z-index: -1;}#sk-container-id-4 div.sk-parallel-item {display: flex;flex-direction: column;z-index: 1;position: relative;background-color: white;}#sk-container-id-4 div.sk-parallel-item:first-child::after {align-self: flex-end;width: 50%;}#sk-container-id-4 div.sk-parallel-item:last-child::after {align-self: flex-start;width: 50%;}#sk-container-id-4 div.sk-parallel-item:only-child::after {width: 0;}#sk-container-id-4 div.sk-dashed-wrapped {border: 1px dashed gray;margin: 0 0.4em 0.5em 0.4em;box-sizing: border-box;padding-bottom: 0.4em;background-color: white;}#sk-container-id-4 div.sk-label label {font-family: monospace;font-weight: bold;display: inline-block;line-height: 1.2em;}#sk-container-id-4 div.sk-label-container {text-align: center;}#sk-container-id-4 div.sk-container {/* jupyter's `normalize.less` sets `[hidden] { display: none; }` but bootstrap.min.css set `[hidden] { display: none !important; }` so we also need the `!important` here to be able to override the default hidden behavior on the sphinx rendered scikit-learn.org. See: https://github.com/scikit-learn/scikit-learn/issues/21755 */display: inline-block !important;position: relative;}#sk-container-id-4 div.sk-text-repr-fallback {display: none;}</style><div id=\"sk-container-id-4\" class=\"sk-top-container\"><div class=\"sk-text-repr-fallback\"><pre>LinearRegression()</pre><b>In a Jupyter environment, please rerun this cell to show the HTML representation or trust the notebook. <br />On GitHub, the HTML representation is unable to render, please try loading this page with nbviewer.org.</b></div><div class=\"sk-container\" hidden><div class=\"sk-item\"><div class=\"sk-estimator sk-toggleable\"><input class=\"sk-toggleable__control sk-hidden--visually\" id=\"sk-estimator-id-4\" type=\"checkbox\" checked><label for=\"sk-estimator-id-4\" class=\"sk-toggleable__label sk-toggleable__label-arrow\">LinearRegression</label><div class=\"sk-toggleable__content\"><pre>LinearRegression()</pre></div></div></div></div></div>"
      ],
      "text/plain": [
       "LinearRegression()"
      ]
     },
     "execution_count": 42,
     "metadata": {},
     "output_type": "execute_result"
    }
   ],
   "source": [
    "lr.fit(x_train_scaled,y_train)"
   ]
  },
  {
   "cell_type": "code",
   "execution_count": 43,
   "id": "5a33b477-af77-4014-9bf2-66b5cc431dca",
   "metadata": {},
   "outputs": [
    {
     "data": {
      "text/plain": [
       "array([3.91569271])"
      ]
     },
     "execution_count": 43,
     "metadata": {},
     "output_type": "execute_result"
    }
   ],
   "source": [
    "lr.coef_"
   ]
  },
  {
   "cell_type": "code",
   "execution_count": 44,
   "id": "82a10604-5674-4132-b7f3-029d4b9cc933",
   "metadata": {},
   "outputs": [
    {
     "data": {
      "text/plain": [
       "14.100000000000001"
      ]
     },
     "execution_count": 44,
     "metadata": {},
     "output_type": "execute_result"
    }
   ],
   "source": [
    "lr.intercept_"
   ]
  },
  {
   "cell_type": "code",
   "execution_count": 48,
   "id": "08297ac2-abee-4442-891e-9daffe160da7",
   "metadata": {},
   "outputs": [
    {
     "data": {
      "image/png": "[encoded data removed]",
      "text/plain": [
       "<Figure size 640x480 with 1 Axes>"
      ]
     },
     "metadata": {},
     "output_type": "display_data"
    }
   ],
   "source": [
    "plt.scatter(x_train_scaled,y_train )\n",
    "plt.plot(x_train_scaled,lr.predict(x_train_scaled),'g')\n",
    "plt.show()"
   ]
  },
  {
   "cell_type": "markdown",
   "id": "da123b92-202c-47ae-b922-f6d50123c786",
   "metadata": {},
   "source": [
    "## prediction for test data "
   ]
  },
  {
   "cell_type": "code",
   "execution_count": 50,
   "id": "4feeb3da-a079-4c19-ab5b-a75ae31862f4",
   "metadata": {},
   "outputs": [],
   "source": [
    "y_pred = lr.predict(x_test_scaled)"
   ]
  },
  {
   "cell_type": "code",
   "execution_count": 51,
   "id": "b9178627-7f94-42ed-8c5c-11b993f8f96a",
   "metadata": {},
   "outputs": [
    {
     "data": {
      "text/plain": [
       "array([15.32048976, 16.71149708, 20.93651933,  8.75112184, 17.79050277,\n",
       "       11.49846963, 17.6388353 , 10.41079724, 17.88150324, 15.83182579,\n",
       "        9.60912635, 10.67946532, 18.40583934,  8.4781204 , 14.289151  ,\n",
       "       15.61949133,  8.56045416, 16.80683092, 11.50713635, 18.53150667,\n",
       "       18.18917153, 11.18213464,  9.8907945 , 19.11650975, 11.23413491,\n",
       "       10.56246471, 17.49583455, 14.28048428, 12.02280573,  8.60812108,\n",
       "       16.90216475, 11.24280162, 16.86316455,  8.97645636, 20.40784988,\n",
       "       18.56617352, 10.33713019, 20.10451495, 13.32281257,  9.43579211])"
      ]
     },
     "execution_count": 51,
     "metadata": {},
     "output_type": "execute_result"
    }
   ],
   "source": [
    "y_pred"
   ]
  },
  {
   "cell_type": "code",
   "execution_count": 52,
   "id": "f2cc874a-9d83-4450-9526-aa05b548a76d",
   "metadata": {},
   "outputs": [
    {
     "data": {
      "text/plain": [
       "95     16.9\n",
       "15     22.4\n",
       "30     21.4\n",
       "158     7.3\n",
       "128    24.7\n",
       "115    12.6\n",
       "69     22.3\n",
       "170     8.4\n",
       "174    11.5\n",
       "45     14.9\n",
       "66      9.5\n",
       "182     8.7\n",
       "165    11.9\n",
       "78      5.3\n",
       "186    10.3\n",
       "177    11.7\n",
       "56      5.5\n",
       "152    16.6\n",
       "82     11.3\n",
       "68     18.9\n",
       "124    19.7\n",
       "16     12.5\n",
       "148    10.9\n",
       "93     22.2\n",
       "65      9.3\n",
       "60      8.1\n",
       "84     21.7\n",
       "67     13.4\n",
       "125    10.6\n",
       "132     5.7\n",
       "9      10.6\n",
       "18     11.3\n",
       "55     23.7\n",
       "75      8.7\n",
       "150    16.1\n",
       "104    20.7\n",
       "135    11.6\n",
       "137    20.8\n",
       "164    11.9\n",
       "76      6.9\n",
       "Name: Sales, dtype: float64"
      ]
     },
     "execution_count": 52,
     "metadata": {},
     "output_type": "execute_result"
    }
   ],
   "source": [
    "y_test "
   ]
  },
  {
   "cell_type": "markdown",
   "id": "1e4ecedd-771f-4a9a-b252-3e2fbc21074c",
   "metadata": {},
   "source": [
    "## performance metrices "
   ]
  },
  {
   "cell_type": "code",
   "execution_count": 53,
   "id": "ecc33889-14b4-4192-815d-f008fcf94d93",
   "metadata": {},
   "outputs": [],
   "source": [
    "from sklearn.metrics import mean_absolute_error,mean_squared_error"
   ]
  },
  {
   "cell_type": "code",
   "execution_count": 54,
   "id": "b9759802-5904-4847-a6bf-56b3343f17cc",
   "metadata": {},
   "outputs": [],
   "source": [
    "mse = mean_squared_error(y_test,y_pred)"
   ]
  },
  {
   "cell_type": "code",
   "execution_count": 55,
   "id": "2be4326d-629c-4d34-9ad7-08030536cf27",
   "metadata": {},
   "outputs": [
    {
     "data": {
      "text/plain": [
       "10.60440712647343"
      ]
     },
     "execution_count": 55,
     "metadata": {},
     "output_type": "execute_result"
    }
   ],
   "source": [
    "mse "
   ]
  },
  {
   "cell_type": "code",
   "execution_count": 56,
   "id": "ba0cd40b-4155-4459-b224-b4ab22e74b45",
   "metadata": {},
   "outputs": [],
   "source": [
    "mae = mean_absolute_error(y_test,y_pred )"
   ]
  },
  {
   "cell_type": "code",
   "execution_count": 57,
   "id": "c55453de-ab27-4e10-873e-e934fd12f3cc",
   "metadata": {},
   "outputs": [
    {
     "data": {
      "text/plain": [
       "2.5316974832658055"
      ]
     },
     "execution_count": 57,
     "metadata": {},
     "output_type": "execute_result"
    }
   ],
   "source": [
    "mae "
   ]
  },
  {
   "cell_type": "markdown",
   "id": "0c402ae1-c915-4181-9c46-18aa00751e30",
   "metadata": {},
   "source": [
    "##  Accuracy of the model "
   ]
  },
  {
   "cell_type": "code",
   "execution_count": 58,
   "id": "00e4fd93-2cd6-4016-bef1-c9080010e3d3",
   "metadata": {},
   "outputs": [],
   "source": [
    "from sklearn.metrics import r2_score"
   ]
  },
  {
   "cell_type": "code",
   "execution_count": 59,
   "id": "db6c756e-df14-4a96-b907-19f4984bd38c",
   "metadata": {},
   "outputs": [],
   "source": [
    "score = r2_score(y_test , y_pred)"
   ]
  },
  {
   "cell_type": "code",
   "execution_count": 60,
   "id": "a6f93ab8-893d-4a89-be2c-5fc23aaf42b5",
   "metadata": {},
   "outputs": [
    {
     "data": {
      "text/plain": [
       "0.6640304266217014"
      ]
     },
     "execution_count": 60,
     "metadata": {},
     "output_type": "execute_result"
    }
   ],
   "source": [
    "score "
   ]
  },
  {
   "cell_type": "code",
   "execution_count": null,
   "id": "f5ec2afa-f24a-437d-834e-f24e7e2fe7ca",
   "metadata": {},
   "outputs": [],
   "source": []
  },
  {
   "cell_type": "code",
   "execution_count": null,
   "id": "8598e7ad-491e-44aa-9b15-3a6937954644",
   "metadata": {},
   "outputs": [],
   "source": []
  },
  {
   "cell_type": "code",
   "execution_count": null,
   "id": "0da2b3db-5262-4b6b-b00c-ff919c266ec3",
   "metadata": {},
   "outputs": [],
   "source": []
  }
 ],
 "metadata": {
  "kernelspec": {
   "display_name": "Python 3 (ipykernel)",
   "language": "python",
   "name": "python3"
  },
  "language_info": {
   "codemirror_mode": {
    "name": "ipython",
    "version": 3
   },
   "file_extension": ".py",
   "mimetype": "text/x-python",
   "name": "python",
   "nbconvert_exporter": "python",
   "pygments_lexer": "ipython3",
   "version": "3.11.5"
  }
 },
 "nbformat": 4,
 "nbformat_minor": 5
}
